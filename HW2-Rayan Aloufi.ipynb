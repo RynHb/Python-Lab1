{
 "cells": [
  {
   "cell_type": "code",
   "execution_count": 1,
   "id": "03726108",
   "metadata": {},
   "outputs": [],
   "source": [
    "h = \"Winter\""
   ]
  },
  {
   "cell_type": "code",
   "execution_count": 2,
   "id": "02158f54",
   "metadata": {},
   "outputs": [],
   "source": [
    "x = 5\n",
    "y = 3.7"
   ]
  },
  {
   "cell_type": "code",
   "execution_count": 6,
   "id": "b6e3c9b3",
   "metadata": {},
   "outputs": [
    {
     "name": "stdout",
     "output_type": "stream",
     "text": [
      "One-Value One-Value One-Value\n"
     ]
    }
   ],
   "source": [
    "a = b = c = \"One-Value\"\n",
    "print(a,b,c)"
   ]
  },
  {
   "cell_type": "code",
   "execution_count": 7,
   "id": "913a79dc",
   "metadata": {},
   "outputs": [
    {
     "name": "stdout",
     "output_type": "stream",
     "text": [
      "One Two Three\n"
     ]
    }
   ],
   "source": [
    "e, f, g = \"One\",\"Two\",\"Three\"\n",
    "print(e,f,g)"
   ]
  }
 ],
 "metadata": {
  "kernelspec": {
   "display_name": "Python 3 (ipykernel)",
   "language": "python",
   "name": "python3"
  },
  "language_info": {
   "codemirror_mode": {
    "name": "ipython",
    "version": 3
   },
   "file_extension": ".py",
   "mimetype": "text/x-python",
   "name": "python",
   "nbconvert_exporter": "python",
   "pygments_lexer": "ipython3",
   "version": "3.11.3"
  }
 },
 "nbformat": 4,
 "nbformat_minor": 5
}
